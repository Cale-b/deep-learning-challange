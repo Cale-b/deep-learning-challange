{
  "cells": [
    {
      "cell_type": "markdown",
      "metadata": {
        "id": "PRP0rl5SJy_d"
      },
      "source": [
        "## Preprocessing"
      ]
    },
    {
      "cell_type": "code",
      "execution_count": 19,
      "metadata": {
        "id": "Jb11bgLAJy_e"
      },
      "outputs": [],
      "source": [
        "# Import our dependencies\n",
        "from sklearn.model_selection import train_test_split\n",
        "from sklearn.preprocessing import StandardScaler\n",
        "import pandas as pd\n",
        "import tensorflow as tf\n",
        "import matplotlib.pyplot as plt\n",
        "\n",
        "\n",
        "#  Import and read the charity_data.csv.\n",
        "import pandas as pd \n",
        "import pandas as pd\n",
        "\n",
        "# load 50% of the data\n",
        "# Google Colab crashed trying to load 100%\n",
        "application_df = pd.read_csv(\"https://static.bc-edx.com/data/dl-1-2/m21/lms/starter/charity_data.csv\", \n",
        "                             nrows=int(0.5 * len(pd.read_csv(\"https://static.bc-edx.com/data/dl-1-2/m21/lms/starter/charity_data.csv\"))))\n"
      ]
    },
    {
      "cell_type": "code",
      "execution_count": 2,
      "metadata": {
        "colab": {
          "base_uri": "https://localhost:8080/",
          "height": 424
        },
        "id": "Qi2yISZMJy_g",
        "outputId": "25d350bf-5897-41d2-d19e-9098e754115f"
      },
      "outputs": [
        {
          "output_type": "execute_result",
          "data": {
            "text/plain": [
              "      APPLICATION_TYPE       AFFILIATION CLASSIFICATION      USE_CASE  \\\n",
              "0                  T10       Independent          C1000    ProductDev   \n",
              "1                   T3       Independent          C2000  Preservation   \n",
              "2                   T5  CompanySponsored          C3000    ProductDev   \n",
              "3                   T3  CompanySponsored          C2000  Preservation   \n",
              "4                   T3       Independent          C1000     Heathcare   \n",
              "...                ...               ...            ...           ...   \n",
              "17144               T3  CompanySponsored          C1000  Preservation   \n",
              "17145               T3       Independent          C2000  Preservation   \n",
              "17146               T3       Independent          C2000  Preservation   \n",
              "17147               T3  CompanySponsored          C1200  Preservation   \n",
              "17148               T3       Independent          C1000  Preservation   \n",
              "\n",
              "       ORGANIZATION  STATUS     INCOME_AMT SPECIAL_CONSIDERATIONS  ASK_AMT  \\\n",
              "0       Association       1              0                      N     5000   \n",
              "1      Co-operative       1         1-9999                      N   108590   \n",
              "2       Association       1              0                      N     5000   \n",
              "3             Trust       1    10000-24999                      N     6692   \n",
              "4             Trust       1  100000-499999                      N   142590   \n",
              "...             ...     ...            ...                    ...      ...   \n",
              "17144         Trust       1    25000-99999                      N    30041   \n",
              "17145         Trust       1              0                      N     5000   \n",
              "17146         Trust       1  100000-499999                      N   374803   \n",
              "17147         Trust       1              0                      N     5000   \n",
              "17148         Trust       1    25000-99999                      N    11485   \n",
              "\n",
              "       IS_SUCCESSFUL  \n",
              "0                  1  \n",
              "1                  1  \n",
              "2                  0  \n",
              "3                  1  \n",
              "4                  1  \n",
              "...              ...  \n",
              "17144              1  \n",
              "17145              0  \n",
              "17146              1  \n",
              "17147              1  \n",
              "17148              1  \n",
              "\n",
              "[17149 rows x 10 columns]"
            ],
            "text/html": [
              "\n",
              "  <div id=\"df-e1158f2a-6c4a-4e7d-96c1-200ee1de1afb\">\n",
              "    <div class=\"colab-df-container\">\n",
              "      <div>\n",
              "<style scoped>\n",
              "    .dataframe tbody tr th:only-of-type {\n",
              "        vertical-align: middle;\n",
              "    }\n",
              "\n",
              "    .dataframe tbody tr th {\n",
              "        vertical-align: top;\n",
              "    }\n",
              "\n",
              "    .dataframe thead th {\n",
              "        text-align: right;\n",
              "    }\n",
              "</style>\n",
              "<table border=\"1\" class=\"dataframe\">\n",
              "  <thead>\n",
              "    <tr style=\"text-align: right;\">\n",
              "      <th></th>\n",
              "      <th>APPLICATION_TYPE</th>\n",
              "      <th>AFFILIATION</th>\n",
              "      <th>CLASSIFICATION</th>\n",
              "      <th>USE_CASE</th>\n",
              "      <th>ORGANIZATION</th>\n",
              "      <th>STATUS</th>\n",
              "      <th>INCOME_AMT</th>\n",
              "      <th>SPECIAL_CONSIDERATIONS</th>\n",
              "      <th>ASK_AMT</th>\n",
              "      <th>IS_SUCCESSFUL</th>\n",
              "    </tr>\n",
              "  </thead>\n",
              "  <tbody>\n",
              "    <tr>\n",
              "      <th>0</th>\n",
              "      <td>T10</td>\n",
              "      <td>Independent</td>\n",
              "      <td>C1000</td>\n",
              "      <td>ProductDev</td>\n",
              "      <td>Association</td>\n",
              "      <td>1</td>\n",
              "      <td>0</td>\n",
              "      <td>N</td>\n",
              "      <td>5000</td>\n",
              "      <td>1</td>\n",
              "    </tr>\n",
              "    <tr>\n",
              "      <th>1</th>\n",
              "      <td>T3</td>\n",
              "      <td>Independent</td>\n",
              "      <td>C2000</td>\n",
              "      <td>Preservation</td>\n",
              "      <td>Co-operative</td>\n",
              "      <td>1</td>\n",
              "      <td>1-9999</td>\n",
              "      <td>N</td>\n",
              "      <td>108590</td>\n",
              "      <td>1</td>\n",
              "    </tr>\n",
              "    <tr>\n",
              "      <th>2</th>\n",
              "      <td>T5</td>\n",
              "      <td>CompanySponsored</td>\n",
              "      <td>C3000</td>\n",
              "      <td>ProductDev</td>\n",
              "      <td>Association</td>\n",
              "      <td>1</td>\n",
              "      <td>0</td>\n",
              "      <td>N</td>\n",
              "      <td>5000</td>\n",
              "      <td>0</td>\n",
              "    </tr>\n",
              "    <tr>\n",
              "      <th>3</th>\n",
              "      <td>T3</td>\n",
              "      <td>CompanySponsored</td>\n",
              "      <td>C2000</td>\n",
              "      <td>Preservation</td>\n",
              "      <td>Trust</td>\n",
              "      <td>1</td>\n",
              "      <td>10000-24999</td>\n",
              "      <td>N</td>\n",
              "      <td>6692</td>\n",
              "      <td>1</td>\n",
              "    </tr>\n",
              "    <tr>\n",
              "      <th>4</th>\n",
              "      <td>T3</td>\n",
              "      <td>Independent</td>\n",
              "      <td>C1000</td>\n",
              "      <td>Heathcare</td>\n",
              "      <td>Trust</td>\n",
              "      <td>1</td>\n",
              "      <td>100000-499999</td>\n",
              "      <td>N</td>\n",
              "      <td>142590</td>\n",
              "      <td>1</td>\n",
              "    </tr>\n",
              "    <tr>\n",
              "      <th>...</th>\n",
              "      <td>...</td>\n",
              "      <td>...</td>\n",
              "      <td>...</td>\n",
              "      <td>...</td>\n",
              "      <td>...</td>\n",
              "      <td>...</td>\n",
              "      <td>...</td>\n",
              "      <td>...</td>\n",
              "      <td>...</td>\n",
              "      <td>...</td>\n",
              "    </tr>\n",
              "    <tr>\n",
              "      <th>17144</th>\n",
              "      <td>T3</td>\n",
              "      <td>CompanySponsored</td>\n",
              "      <td>C1000</td>\n",
              "      <td>Preservation</td>\n",
              "      <td>Trust</td>\n",
              "      <td>1</td>\n",
              "      <td>25000-99999</td>\n",
              "      <td>N</td>\n",
              "      <td>30041</td>\n",
              "      <td>1</td>\n",
              "    </tr>\n",
              "    <tr>\n",
              "      <th>17145</th>\n",
              "      <td>T3</td>\n",
              "      <td>Independent</td>\n",
              "      <td>C2000</td>\n",
              "      <td>Preservation</td>\n",
              "      <td>Trust</td>\n",
              "      <td>1</td>\n",
              "      <td>0</td>\n",
              "      <td>N</td>\n",
              "      <td>5000</td>\n",
              "      <td>0</td>\n",
              "    </tr>\n",
              "    <tr>\n",
              "      <th>17146</th>\n",
              "      <td>T3</td>\n",
              "      <td>Independent</td>\n",
              "      <td>C2000</td>\n",
              "      <td>Preservation</td>\n",
              "      <td>Trust</td>\n",
              "      <td>1</td>\n",
              "      <td>100000-499999</td>\n",
              "      <td>N</td>\n",
              "      <td>374803</td>\n",
              "      <td>1</td>\n",
              "    </tr>\n",
              "    <tr>\n",
              "      <th>17147</th>\n",
              "      <td>T3</td>\n",
              "      <td>CompanySponsored</td>\n",
              "      <td>C1200</td>\n",
              "      <td>Preservation</td>\n",
              "      <td>Trust</td>\n",
              "      <td>1</td>\n",
              "      <td>0</td>\n",
              "      <td>N</td>\n",
              "      <td>5000</td>\n",
              "      <td>1</td>\n",
              "    </tr>\n",
              "    <tr>\n",
              "      <th>17148</th>\n",
              "      <td>T3</td>\n",
              "      <td>Independent</td>\n",
              "      <td>C1000</td>\n",
              "      <td>Preservation</td>\n",
              "      <td>Trust</td>\n",
              "      <td>1</td>\n",
              "      <td>25000-99999</td>\n",
              "      <td>N</td>\n",
              "      <td>11485</td>\n",
              "      <td>1</td>\n",
              "    </tr>\n",
              "  </tbody>\n",
              "</table>\n",
              "<p>17149 rows × 10 columns</p>\n",
              "</div>\n",
              "      <button class=\"colab-df-convert\" onclick=\"convertToInteractive('df-e1158f2a-6c4a-4e7d-96c1-200ee1de1afb')\"\n",
              "              title=\"Convert this dataframe to an interactive table.\"\n",
              "              style=\"display:none;\">\n",
              "        \n",
              "  <svg xmlns=\"http://www.w3.org/2000/svg\" height=\"24px\"viewBox=\"0 0 24 24\"\n",
              "       width=\"24px\">\n",
              "    <path d=\"M0 0h24v24H0V0z\" fill=\"none\"/>\n",
              "    <path d=\"M18.56 5.44l.94 2.06.94-2.06 2.06-.94-2.06-.94-.94-2.06-.94 2.06-2.06.94zm-11 1L8.5 8.5l.94-2.06 2.06-.94-2.06-.94L8.5 2.5l-.94 2.06-2.06.94zm10 10l.94 2.06.94-2.06 2.06-.94-2.06-.94-.94-2.06-.94 2.06-2.06.94z\"/><path d=\"M17.41 7.96l-1.37-1.37c-.4-.4-.92-.59-1.43-.59-.52 0-1.04.2-1.43.59L10.3 9.45l-7.72 7.72c-.78.78-.78 2.05 0 2.83L4 21.41c.39.39.9.59 1.41.59.51 0 1.02-.2 1.41-.59l7.78-7.78 2.81-2.81c.8-.78.8-2.07 0-2.86zM5.41 20L4 18.59l7.72-7.72 1.47 1.35L5.41 20z\"/>\n",
              "  </svg>\n",
              "      </button>\n",
              "      \n",
              "  <style>\n",
              "    .colab-df-container {\n",
              "      display:flex;\n",
              "      flex-wrap:wrap;\n",
              "      gap: 12px;\n",
              "    }\n",
              "\n",
              "    .colab-df-convert {\n",
              "      background-color: #E8F0FE;\n",
              "      border: none;\n",
              "      border-radius: 50%;\n",
              "      cursor: pointer;\n",
              "      display: none;\n",
              "      fill: #1967D2;\n",
              "      height: 32px;\n",
              "      padding: 0 0 0 0;\n",
              "      width: 32px;\n",
              "    }\n",
              "\n",
              "    .colab-df-convert:hover {\n",
              "      background-color: #E2EBFA;\n",
              "      box-shadow: 0px 1px 2px rgba(60, 64, 67, 0.3), 0px 1px 3px 1px rgba(60, 64, 67, 0.15);\n",
              "      fill: #174EA6;\n",
              "    }\n",
              "\n",
              "    [theme=dark] .colab-df-convert {\n",
              "      background-color: #3B4455;\n",
              "      fill: #D2E3FC;\n",
              "    }\n",
              "\n",
              "    [theme=dark] .colab-df-convert:hover {\n",
              "      background-color: #434B5C;\n",
              "      box-shadow: 0px 1px 3px 1px rgba(0, 0, 0, 0.15);\n",
              "      filter: drop-shadow(0px 1px 2px rgba(0, 0, 0, 0.3));\n",
              "      fill: #FFFFFF;\n",
              "    }\n",
              "  </style>\n",
              "\n",
              "      <script>\n",
              "        const buttonEl =\n",
              "          document.querySelector('#df-e1158f2a-6c4a-4e7d-96c1-200ee1de1afb button.colab-df-convert');\n",
              "        buttonEl.style.display =\n",
              "          google.colab.kernel.accessAllowed ? 'block' : 'none';\n",
              "\n",
              "        async function convertToInteractive(key) {\n",
              "          const element = document.querySelector('#df-e1158f2a-6c4a-4e7d-96c1-200ee1de1afb');\n",
              "          const dataTable =\n",
              "            await google.colab.kernel.invokeFunction('convertToInteractive',\n",
              "                                                     [key], {});\n",
              "          if (!dataTable) return;\n",
              "\n",
              "          const docLinkHtml = 'Like what you see? Visit the ' +\n",
              "            '<a target=\"_blank\" href=https://colab.research.google.com/notebooks/data_table.ipynb>data table notebook</a>'\n",
              "            + ' to learn more about interactive tables.';\n",
              "          element.innerHTML = '';\n",
              "          dataTable['output_type'] = 'display_data';\n",
              "          await google.colab.output.renderOutput(dataTable, element);\n",
              "          const docLink = document.createElement('div');\n",
              "          docLink.innerHTML = docLinkHtml;\n",
              "          element.appendChild(docLink);\n",
              "        }\n",
              "      </script>\n",
              "    </div>\n",
              "  </div>\n",
              "  "
            ]
          },
          "metadata": {},
          "execution_count": 2
        }
      ],
      "source": [
        "# Drop the non-beneficial ID columns, 'EIN' and 'NAME'.\n",
        "application_df.drop([\"EIN\",\"NAME\"], axis=1)"
      ]
    },
    {
      "cell_type": "code",
      "execution_count": 3,
      "metadata": {
        "colab": {
          "base_uri": "https://localhost:8080/"
        },
        "id": "5Li4zMioJy_g",
        "outputId": "40b67070-d058-4e17-8953-6007fe599098"
      },
      "outputs": [
        {
          "output_type": "execute_result",
          "data": {
            "text/plain": [
              "EIN                       17149\n",
              "NAME                      10554\n",
              "APPLICATION_TYPE             14\n",
              "AFFILIATION                   6\n",
              "CLASSIFICATION               47\n",
              "USE_CASE                      5\n",
              "ORGANIZATION                  4\n",
              "STATUS                        2\n",
              "INCOME_AMT                    9\n",
              "SPECIAL_CONSIDERATIONS        2\n",
              "ASK_AMT                    4158\n",
              "IS_SUCCESSFUL                 2\n",
              "dtype: int64"
            ]
          },
          "metadata": {},
          "execution_count": 3
        }
      ],
      "source": [
        "# Determine the number of unique values in each column.\n",
        "application_df.nunique()"
      ]
    },
    {
      "cell_type": "code",
      "execution_count": 4,
      "metadata": {
        "colab": {
          "base_uri": "https://localhost:8080/"
        },
        "id": "JLDcodiwJy_h",
        "outputId": "f7d5e350-75fe-47cf-fa88-c125d59c0947"
      },
      "outputs": [
        {
          "output_type": "execute_result",
          "data": {
            "text/plain": [
              "T3     13822\n",
              "T6       664\n",
              "T4       592\n",
              "T19      459\n",
              "T8       433\n",
              "T10      401\n",
              "T7       375\n",
              "T5       264\n",
              "T9        84\n",
              "T13       33\n",
              "T12       11\n",
              "T2         8\n",
              "T29        2\n",
              "T25        1\n",
              "Name: APPLICATION_TYPE, dtype: int64"
            ]
          },
          "metadata": {},
          "execution_count": 4
        }
      ],
      "source": [
        "# Look at APPLICATION_TYPE value counts for binning\n",
        "application_values = application_df.loc[:,'APPLICATION_TYPE'].value_counts()\n",
        "application_values"
      ]
    },
    {
      "cell_type": "code",
      "execution_count": 5,
      "metadata": {
        "id": "q1QtoRSdJy_h",
        "outputId": "b240ce01-cfd3-4b5a-ec08-3ea6948c8b34",
        "colab": {
          "base_uri": "https://localhost:8080/"
        }
      },
      "outputs": [
        {
          "output_type": "execute_result",
          "data": {
            "text/plain": [
              "T3       13822\n",
              "Other     3327\n",
              "Name: APPLICATION_TYPE, dtype: int64"
            ]
          },
          "metadata": {},
          "execution_count": 5
        }
      ],
      "source": [
        "# Choose a cutoff value and create a list of application types to be replaced\n",
        "# use the variable name `application_types_to_replace`\n",
        "application_types_to_replace = list(application_values[application_values<2000].index)\n",
        "# Replace in dataframe\n",
        "for app in application_types_to_replace:\n",
        "    application_df['APPLICATION_TYPE'] = application_df['APPLICATION_TYPE'].replace(app,\"Other\")\n",
        "\n",
        "# Check to make sure binning was successful\n",
        "application_df['APPLICATION_TYPE'].value_counts()"
      ]
    },
    {
      "cell_type": "code",
      "execution_count": 6,
      "metadata": {
        "colab": {
          "base_uri": "https://localhost:8080/"
        },
        "id": "Go1YAAzqJy_i",
        "outputId": "b9142234-fbad-4c7c-ab6c-491ed88e5f06"
      },
      "outputs": [
        {
          "output_type": "execute_result",
          "data": {
            "text/plain": [
              "C1000    8885\n",
              "C2000    2982\n",
              "C1200    2396\n",
              "C2100    1136\n",
              "C3000     580\n",
              "C7000     420\n",
              "C1700     174\n",
              "C4000     117\n",
              "C5000      68\n",
              "C2700      67\n",
              "C7100      47\n",
              "C1270      46\n",
              "C2800      30\n",
              "C1240      18\n",
              "C7200      18\n",
              "C1230      14\n",
              "C1300      14\n",
              "C1400      13\n",
              "C2300      13\n",
              "C7120      12\n",
              "C8000      11\n",
              "C1280      11\n",
              "C8200       9\n",
              "C1800       7\n",
              "C1500       7\n",
              "C7210       6\n",
              "C6000       6\n",
              "C1235       5\n",
              "C1237       5\n",
              "C1600       4\n",
              "C1250       4\n",
              "C4100       3\n",
              "C1238       3\n",
              "C2710       2\n",
              "C1260       2\n",
              "C1720       2\n",
              "C1278       2\n",
              "C1728       1\n",
              "C2170       1\n",
              "C4120       1\n",
              "C1257       1\n",
              "C8210       1\n",
              "C2400       1\n",
              "C4500       1\n",
              "C1245       1\n",
              "C2561       1\n",
              "C1732       1\n",
              "Name: CLASSIFICATION, dtype: int64"
            ]
          },
          "metadata": {},
          "execution_count": 6
        }
      ],
      "source": [
        "# Look at CLASSIFICATION value counts for binning\n",
        "classification_value = application_df.loc[:, 'CLASSIFICATION'].value_counts()\n",
        "classification_value"
      ]
    },
    {
      "cell_type": "code",
      "execution_count": 7,
      "metadata": {
        "id": "chevXJurJy_j",
        "outputId": "e649c05f-dd02-442c-d87f-073d930d7fc0",
        "colab": {
          "base_uri": "https://localhost:8080/"
        }
      },
      "outputs": [
        {
          "output_type": "execute_result",
          "data": {
            "text/plain": [
              "C1000    8885\n",
              "C2000    2982\n",
              "Other    2886\n",
              "C1200    2396\n",
              "Name: CLASSIFICATION, dtype: int64"
            ]
          },
          "metadata": {},
          "execution_count": 7
        }
      ],
      "source": [
        "# Choose a cutoff value and create a list of classifications to be replaced\n",
        "# use the variable name `classifications_to_replace`\n",
        "classifications_to_replace = list(classification_value[classification_value<2000].index)\n",
        "\n",
        "# Replace in dataframe\n",
        "for cls in classifications_to_replace:\n",
        "    application_df['CLASSIFICATION'] = application_df['CLASSIFICATION'].replace(cls,\"Other\")\n",
        "    \n",
        "# Check to make sure binning was successful\n",
        "application_df['CLASSIFICATION'].value_counts()"
      ]
    },
    {
      "cell_type": "code",
      "execution_count": 8,
      "metadata": {
        "id": "bN9sGb3oJy_k"
      },
      "outputs": [],
      "source": [
        "# Convert categorical data to numeric with `pd.get_dummies`\n",
        "application_df = pd.get_dummies(application_df)\n"
      ]
    },
    {
      "cell_type": "code",
      "execution_count": 9,
      "metadata": {
        "id": "p3_ZgS-IJy_k"
      },
      "outputs": [],
      "source": [
        "# Split our preprocessed data into our features and target arrays\n",
        "y = application_df.IS_SUCCESSFUL.values\n",
        "X = application_df.drop('IS_SUCCESSFUL', axis=1).values\n"
      ]
    },
    {
      "cell_type": "code",
      "execution_count": 10,
      "metadata": {
        "id": "_ws84M38lIV7"
      },
      "outputs": [],
      "source": [
        "\n",
        "# Split the preprocessed data into a training and\n",
        "# testing dataset\n",
        "X_train, X_test, y_train, y_test = train_test_split(X,y,random_state= 1)"
      ]
    },
    {
      "cell_type": "code",
      "source": [
        "application_df = None"
      ],
      "metadata": {
        "id": "bVliA40T-aAs"
      },
      "execution_count": 11,
      "outputs": []
    },
    {
      "cell_type": "code",
      "execution_count": 12,
      "metadata": {
        "id": "MxGtC5clJy_l"
      },
      "outputs": [],
      "source": [
        "# Create a StandardScaler instances\n",
        "scaler = StandardScaler()\n",
        "\n",
        "# Fit the StandardScaler\n",
        "X_scaler = scaler.fit(X_train)\n",
        "\n",
        "# Scale the data\n",
        "X_train_scaled = X_scaler.transform(X_train)\n",
        "X_test_scaled = X_scaler.transform(X_test)"
      ]
    },
    {
      "cell_type": "markdown",
      "metadata": {
        "id": "ots559taJy_l"
      },
      "source": [
        "## Compile, Train and Evaluate the Model"
      ]
    },
    {
      "cell_type": "code",
      "execution_count": 13,
      "metadata": {
        "id": "D5knci_HJy_m",
        "outputId": "65a7e4c4-e657-4fba-dc54-e5a64abaf27f",
        "colab": {
          "base_uri": "https://localhost:8080/"
        }
      },
      "outputs": [
        {
          "output_type": "stream",
          "name": "stdout",
          "text": [
            "Model: \"sequential\"\n",
            "_________________________________________________________________\n",
            " Layer (type)                Output Shape              Param #   \n",
            "=================================================================\n",
            " dense (Dense)               (None, 80)                847200    \n",
            "                                                                 \n",
            " dense_1 (Dense)             (None, 30)                2430      \n",
            "                                                                 \n",
            " dense_2 (Dense)             (None, 1)                 31        \n",
            "                                                                 \n",
            "=================================================================\n",
            "Total params: 849,661\n",
            "Trainable params: 849,661\n",
            "Non-trainable params: 0\n",
            "_________________________________________________________________\n"
          ]
        }
      ],
      "source": [
        "# Define the model - deep neural net, i.e., the number of input features and hidden nodes for each layer.\n",
        "number_input_features = len(X_train_scaled[0])\n",
        "\n",
        "nn_model = tf.keras.models.Sequential()\n",
        "\n",
        "# First hidden layer\n",
        "nn_model.add(tf.keras.layers.Dense(units= 80, input_dim= number_input_features, activation='relu'))\n",
        "\n",
        "# Second hidden layer\n",
        "nn_model.add(tf.keras.layers.Dense(units= 30, activation='relu'))\n",
        "\n",
        "# Output layer\n",
        "nn_model.add(tf.keras.layers.Dense(units=1, activation='sigmoid'))\n",
        "\n",
        "# Check the structure of the model\n",
        "nn_model.summary()"
      ]
    },
    {
      "cell_type": "code",
      "execution_count": 14,
      "metadata": {
        "id": "0EUQHJQrJy_m"
      },
      "outputs": [],
      "source": [
        "# Compile the model\n",
        "nn_model.compile(loss = 'binary_crossentropy', optimizer = 'adam', metrics=['accuracy', tf.keras.metrics.Recall()])"
      ]
    },
    {
      "cell_type": "code",
      "execution_count": 15,
      "metadata": {
        "id": "VglizxcvJy_m",
        "outputId": "22c74183-8875-4797-82db-b46111d5d240",
        "colab": {
          "base_uri": "https://localhost:8080/"
        }
      },
      "outputs": [
        {
          "output_type": "stream",
          "name": "stdout",
          "text": [
            "Epoch 1/100\n",
            "402/402 [==============================] - 16s 34ms/step - loss: 0.4989 - accuracy: 0.7686 - recall: 0.8897\n",
            "Epoch 2/100\n",
            "402/402 [==============================] - 5s 13ms/step - loss: 0.1404 - accuracy: 0.9536 - recall: 0.9562\n",
            "Epoch 3/100\n",
            "402/402 [==============================] - 6s 15ms/step - loss: 0.0848 - accuracy: 0.9663 - recall: 0.9597\n",
            "Epoch 4/100\n",
            "402/402 [==============================] - 6s 15ms/step - loss: 0.0788 - accuracy: 0.9681 - recall: 0.9588\n",
            "Epoch 5/100\n",
            "402/402 [==============================] - 5s 13ms/step - loss: 0.0780 - accuracy: 0.9684 - recall: 0.9613\n",
            "Epoch 6/100\n",
            "402/402 [==============================] - 8s 19ms/step - loss: 0.0757 - accuracy: 0.9679 - recall: 0.9595\n",
            "Epoch 7/100\n",
            "402/402 [==============================] - 5s 12ms/step - loss: 0.0744 - accuracy: 0.9684 - recall: 0.9597\n",
            "Epoch 8/100\n",
            "402/402 [==============================] - 5s 13ms/step - loss: 0.0738 - accuracy: 0.9684 - recall: 0.9612\n",
            "Epoch 9/100\n",
            "402/402 [==============================] - 6s 15ms/step - loss: 0.0736 - accuracy: 0.9695 - recall: 0.9598\n",
            "Epoch 10/100\n",
            "402/402 [==============================] - 5s 13ms/step - loss: 0.0725 - accuracy: 0.9698 - recall: 0.9633\n",
            "Epoch 11/100\n",
            "402/402 [==============================] - 6s 15ms/step - loss: 0.0721 - accuracy: 0.9693 - recall: 0.9616\n",
            "Epoch 12/100\n",
            "402/402 [==============================] - 6s 16ms/step - loss: 0.0707 - accuracy: 0.9701 - recall: 0.9615\n",
            "Epoch 13/100\n",
            "402/402 [==============================] - 6s 15ms/step - loss: 0.0707 - accuracy: 0.9708 - recall: 0.9615\n",
            "Epoch 14/100\n",
            "402/402 [==============================] - 6s 16ms/step - loss: 0.0698 - accuracy: 0.9711 - recall: 0.9627\n",
            "Epoch 15/100\n",
            "402/402 [==============================] - 5s 12ms/step - loss: 0.0697 - accuracy: 0.9705 - recall: 0.9616\n",
            "Epoch 16/100\n",
            "402/402 [==============================] - 6s 15ms/step - loss: 0.0693 - accuracy: 0.9714 - recall: 0.9634\n",
            "Epoch 17/100\n",
            "402/402 [==============================] - 6s 14ms/step - loss: 0.0689 - accuracy: 0.9708 - recall: 0.9623\n",
            "Epoch 18/100\n",
            "402/402 [==============================] - 9s 21ms/step - loss: 0.0686 - accuracy: 0.9725 - recall: 0.9647\n",
            "Epoch 19/100\n",
            "402/402 [==============================] - 7s 18ms/step - loss: 0.0675 - accuracy: 0.9719 - recall: 0.9652\n",
            "Epoch 20/100\n",
            "402/402 [==============================] - 5s 12ms/step - loss: 0.0669 - accuracy: 0.9719 - recall: 0.9647\n",
            "Epoch 21/100\n",
            "402/402 [==============================] - 7s 17ms/step - loss: 0.0667 - accuracy: 0.9726 - recall: 0.9652\n",
            "Epoch 22/100\n",
            "402/402 [==============================] - 5s 12ms/step - loss: 0.0665 - accuracy: 0.9735 - recall: 0.9675\n",
            "Epoch 23/100\n",
            "402/402 [==============================] - 5s 12ms/step - loss: 0.0660 - accuracy: 0.9734 - recall: 0.9673\n",
            "Epoch 24/100\n",
            "402/402 [==============================] - 7s 16ms/step - loss: 0.0656 - accuracy: 0.9732 - recall: 0.9658\n",
            "Epoch 25/100\n",
            "402/402 [==============================] - 5s 12ms/step - loss: 0.0647 - accuracy: 0.9737 - recall: 0.9668\n",
            "Epoch 26/100\n",
            "402/402 [==============================] - 5s 14ms/step - loss: 0.0640 - accuracy: 0.9743 - recall: 0.9693\n",
            "Epoch 27/100\n",
            "402/402 [==============================] - 6s 15ms/step - loss: 0.0652 - accuracy: 0.9745 - recall: 0.9683\n",
            "Epoch 28/100\n",
            "402/402 [==============================] - 5s 12ms/step - loss: 0.0636 - accuracy: 0.9750 - recall: 0.9689\n",
            "Epoch 29/100\n",
            "402/402 [==============================] - 6s 15ms/step - loss: 0.0642 - accuracy: 0.9747 - recall: 0.9694\n",
            "Epoch 30/100\n",
            "402/402 [==============================] - 5s 13ms/step - loss: 0.0632 - accuracy: 0.9747 - recall: 0.9701\n",
            "Epoch 31/100\n",
            "402/402 [==============================] - 5s 12ms/step - loss: 0.0626 - accuracy: 0.9753 - recall: 0.9685\n",
            "Epoch 32/100\n",
            "402/402 [==============================] - 7s 16ms/step - loss: 0.0627 - accuracy: 0.9750 - recall: 0.9710\n",
            "Epoch 33/100\n",
            "402/402 [==============================] - 5s 12ms/step - loss: 0.0628 - accuracy: 0.9752 - recall: 0.9693\n",
            "Epoch 34/100\n",
            "402/402 [==============================] - 5s 12ms/step - loss: 0.0621 - accuracy: 0.9750 - recall: 0.9687\n",
            "Epoch 35/100\n",
            "402/402 [==============================] - 7s 18ms/step - loss: 0.0618 - accuracy: 0.9757 - recall: 0.9699\n",
            "Epoch 36/100\n",
            "402/402 [==============================] - 6s 14ms/step - loss: 0.0618 - accuracy: 0.9750 - recall: 0.9697\n",
            "Epoch 37/100\n",
            "402/402 [==============================] - 6s 15ms/step - loss: 0.0608 - accuracy: 0.9763 - recall: 0.9699\n",
            "Epoch 38/100\n",
            "402/402 [==============================] - 5s 14ms/step - loss: 0.0607 - accuracy: 0.9759 - recall: 0.9703\n",
            "Epoch 39/100\n",
            "402/402 [==============================] - 5s 13ms/step - loss: 0.0604 - accuracy: 0.9764 - recall: 0.9706\n",
            "Epoch 40/100\n",
            "402/402 [==============================] - 7s 17ms/step - loss: 0.0596 - accuracy: 0.9764 - recall: 0.9706\n",
            "Epoch 41/100\n",
            "402/402 [==============================] - 5s 12ms/step - loss: 0.0604 - accuracy: 0.9760 - recall: 0.9703\n",
            "Epoch 42/100\n",
            "402/402 [==============================] - 5s 13ms/step - loss: 0.0600 - accuracy: 0.9770 - recall: 0.9715\n",
            "Epoch 43/100\n",
            "402/402 [==============================] - 8s 20ms/step - loss: 0.0602 - accuracy: 0.9764 - recall: 0.9708\n",
            "Epoch 44/100\n",
            "402/402 [==============================] - 5s 14ms/step - loss: 0.0591 - accuracy: 0.9760 - recall: 0.9694\n",
            "Epoch 45/100\n",
            "402/402 [==============================] - 5s 13ms/step - loss: 0.0598 - accuracy: 0.9762 - recall: 0.9718\n",
            "Epoch 46/100\n",
            "402/402 [==============================] - 6s 16ms/step - loss: 0.0590 - accuracy: 0.9768 - recall: 0.9707\n",
            "Epoch 47/100\n",
            "402/402 [==============================] - 5s 12ms/step - loss: 0.0593 - accuracy: 0.9769 - recall: 0.9712\n",
            "Epoch 48/100\n",
            "402/402 [==============================] - 6s 15ms/step - loss: 0.0586 - accuracy: 0.9768 - recall: 0.9706\n",
            "Epoch 49/100\n",
            "402/402 [==============================] - 6s 14ms/step - loss: 0.0581 - accuracy: 0.9767 - recall: 0.9718\n",
            "Epoch 50/100\n",
            "402/402 [==============================] - 5s 12ms/step - loss: 0.0581 - accuracy: 0.9763 - recall: 0.9704\n",
            "Epoch 51/100\n",
            "402/402 [==============================] - 7s 17ms/step - loss: 0.0578 - accuracy: 0.9778 - recall: 0.9715\n",
            "Epoch 52/100\n",
            "402/402 [==============================] - 5s 12ms/step - loss: 0.0582 - accuracy: 0.9764 - recall: 0.9710\n",
            "Epoch 53/100\n",
            "402/402 [==============================] - 5s 12ms/step - loss: 0.0578 - accuracy: 0.9764 - recall: 0.9714\n",
            "Epoch 54/100\n",
            "402/402 [==============================] - 6s 16ms/step - loss: 0.0586 - accuracy: 0.9768 - recall: 0.9708\n",
            "Epoch 55/100\n",
            "402/402 [==============================] - 5s 12ms/step - loss: 0.0570 - accuracy: 0.9779 - recall: 0.9719\n",
            "Epoch 56/100\n",
            "402/402 [==============================] - 5s 13ms/step - loss: 0.0576 - accuracy: 0.9771 - recall: 0.9717\n",
            "Epoch 57/100\n",
            "402/402 [==============================] - 7s 17ms/step - loss: 0.0578 - accuracy: 0.9771 - recall: 0.9710\n",
            "Epoch 58/100\n",
            "402/402 [==============================] - 5s 13ms/step - loss: 0.0576 - accuracy: 0.9771 - recall: 0.9719\n",
            "Epoch 59/100\n",
            "402/402 [==============================] - 7s 16ms/step - loss: 0.0569 - accuracy: 0.9780 - recall: 0.9729\n",
            "Epoch 60/100\n",
            "402/402 [==============================] - 5s 13ms/step - loss: 0.0574 - accuracy: 0.9768 - recall: 0.9711\n",
            "Epoch 61/100\n",
            "402/402 [==============================] - 5s 12ms/step - loss: 0.0579 - accuracy: 0.9769 - recall: 0.9711\n",
            "Epoch 62/100\n",
            "402/402 [==============================] - 7s 16ms/step - loss: 0.0564 - accuracy: 0.9780 - recall: 0.9724\n",
            "Epoch 63/100\n",
            "402/402 [==============================] - 5s 12ms/step - loss: 0.0566 - accuracy: 0.9777 - recall: 0.9725\n",
            "Epoch 64/100\n",
            "402/402 [==============================] - 5s 13ms/step - loss: 0.0559 - accuracy: 0.9772 - recall: 0.9718\n",
            "Epoch 65/100\n",
            "402/402 [==============================] - 6s 16ms/step - loss: 0.0565 - accuracy: 0.9771 - recall: 0.9724\n",
            "Epoch 66/100\n",
            "402/402 [==============================] - 5s 13ms/step - loss: 0.0564 - accuracy: 0.9780 - recall: 0.9719\n",
            "Epoch 67/100\n",
            "402/402 [==============================] - 6s 15ms/step - loss: 0.0567 - accuracy: 0.9775 - recall: 0.9729\n",
            "Epoch 68/100\n",
            "402/402 [==============================] - 6s 14ms/step - loss: 0.0566 - accuracy: 0.9772 - recall: 0.9718\n",
            "Epoch 69/100\n",
            "402/402 [==============================] - 5s 13ms/step - loss: 0.0571 - accuracy: 0.9779 - recall: 0.9731\n",
            "Epoch 70/100\n",
            "402/402 [==============================] - 7s 16ms/step - loss: 0.0563 - accuracy: 0.9778 - recall: 0.9722\n",
            "Epoch 71/100\n",
            "402/402 [==============================] - 5s 13ms/step - loss: 0.0558 - accuracy: 0.9783 - recall: 0.9729\n",
            "Epoch 72/100\n",
            "402/402 [==============================] - 5s 12ms/step - loss: 0.0554 - accuracy: 0.9778 - recall: 0.9721\n",
            "Epoch 73/100\n",
            "402/402 [==============================] - 7s 17ms/step - loss: 0.0555 - accuracy: 0.9778 - recall: 0.9718\n",
            "Epoch 74/100\n",
            "402/402 [==============================] - 6s 14ms/step - loss: 0.0554 - accuracy: 0.9781 - recall: 0.9718\n",
            "Epoch 75/100\n",
            "402/402 [==============================] - 7s 17ms/step - loss: 0.0555 - accuracy: 0.9779 - recall: 0.9728\n",
            "Epoch 76/100\n",
            "402/402 [==============================] - 6s 14ms/step - loss: 0.0554 - accuracy: 0.9774 - recall: 0.9719\n",
            "Epoch 77/100\n",
            "402/402 [==============================] - 5s 12ms/step - loss: 0.0551 - accuracy: 0.9780 - recall: 0.9726\n",
            "Epoch 78/100\n",
            "402/402 [==============================] - 7s 17ms/step - loss: 0.0555 - accuracy: 0.9782 - recall: 0.9732\n",
            "Epoch 79/100\n",
            "402/402 [==============================] - 5s 13ms/step - loss: 0.0557 - accuracy: 0.9781 - recall: 0.9725\n",
            "Epoch 80/100\n",
            "402/402 [==============================] - 5s 13ms/step - loss: 0.0546 - accuracy: 0.9785 - recall: 0.9725\n",
            "Epoch 81/100\n",
            "402/402 [==============================] - 7s 16ms/step - loss: 0.0550 - accuracy: 0.9782 - recall: 0.9722\n",
            "Epoch 82/100\n",
            "402/402 [==============================] - 5s 12ms/step - loss: 0.0555 - accuracy: 0.9786 - recall: 0.9724\n",
            "Epoch 83/100\n",
            "402/402 [==============================] - 6s 14ms/step - loss: 0.0546 - accuracy: 0.9783 - recall: 0.9728\n",
            "Epoch 84/100\n",
            "402/402 [==============================] - 6s 15ms/step - loss: 0.0550 - accuracy: 0.9785 - recall: 0.9732\n",
            "Epoch 85/100\n",
            "402/402 [==============================] - 5s 12ms/step - loss: 0.0550 - accuracy: 0.9782 - recall: 0.9717\n",
            "Epoch 86/100\n",
            "402/402 [==============================] - 6s 16ms/step - loss: 0.0541 - accuracy: 0.9784 - recall: 0.9726\n",
            "Epoch 87/100\n",
            "402/402 [==============================] - 15s 38ms/step - loss: 0.0544 - accuracy: 0.9785 - recall: 0.9725\n",
            "Epoch 88/100\n",
            "402/402 [==============================] - 6s 15ms/step - loss: 0.0547 - accuracy: 0.9780 - recall: 0.9717\n",
            "Epoch 89/100\n",
            "402/402 [==============================] - 5s 12ms/step - loss: 0.0547 - accuracy: 0.9779 - recall: 0.9719\n",
            "Epoch 90/100\n",
            "402/402 [==============================] - 7s 17ms/step - loss: 0.0545 - accuracy: 0.9781 - recall: 0.9725\n",
            "Epoch 91/100\n",
            "402/402 [==============================] - 5s 13ms/step - loss: 0.0542 - accuracy: 0.9783 - recall: 0.9718\n",
            "Epoch 92/100\n",
            "402/402 [==============================] - 5s 13ms/step - loss: 0.0548 - accuracy: 0.9777 - recall: 0.9725\n",
            "Epoch 93/100\n",
            "402/402 [==============================] - 7s 17ms/step - loss: 0.0546 - accuracy: 0.9776 - recall: 0.9712\n",
            "Epoch 94/100\n",
            "402/402 [==============================] - 5s 12ms/step - loss: 0.0541 - accuracy: 0.9782 - recall: 0.9728\n",
            "Epoch 95/100\n",
            "402/402 [==============================] - 6s 14ms/step - loss: 0.0541 - accuracy: 0.9782 - recall: 0.9724\n",
            "Epoch 96/100\n",
            "402/402 [==============================] - 6s 15ms/step - loss: 0.0540 - accuracy: 0.9784 - recall: 0.9722\n",
            "Epoch 97/100\n",
            "402/402 [==============================] - 5s 13ms/step - loss: 0.0547 - accuracy: 0.9787 - recall: 0.9726\n",
            "Epoch 98/100\n",
            "402/402 [==============================] - 6s 16ms/step - loss: 0.0542 - accuracy: 0.9786 - recall: 0.9731\n",
            "Epoch 99/100\n",
            "402/402 [==============================] - 5s 13ms/step - loss: 0.0543 - accuracy: 0.9782 - recall: 0.9711\n",
            "Epoch 100/100\n",
            "402/402 [==============================] - 5s 12ms/step - loss: 0.0547 - accuracy: 0.9782 - recall: 0.9721\n"
          ]
        }
      ],
      "source": [
        "# Train the model\n",
        "fit_model = nn_model.fit(X_train_scaled,y_train, epochs=100)"
      ]
    },
    {
      "cell_type": "code",
      "execution_count": 16,
      "metadata": {
        "id": "v7NntDeYJy_n",
        "outputId": "95a91f2a-f409-4e32-d9fa-5aa8cc863d49",
        "colab": {
          "base_uri": "https://localhost:8080/"
        }
      },
      "outputs": [
        {
          "output_type": "stream",
          "name": "stdout",
          "text": [
            "134/134 - 1s - loss: 0.6872 - accuracy: 0.7642 - recall: 0.8011 - 897ms/epoch - 7ms/step\n",
            "Loss: 0.6871770620346069, Accuracy: 0.7642257213592529\n"
          ]
        }
      ],
      "source": [
        "# Evaluate the model using the test data\n",
        "model_loss, model_accuracy, model_Recall= nn_model.evaluate(X_test_scaled,y_test,verbose=2)\n",
        "print(f\"Loss: {model_loss}, Accuracy: {model_accuracy}\")\n",
        "\n"
      ]
    },
    {
      "cell_type": "code",
      "execution_count": 17,
      "metadata": {
        "id": "cx-OCRqZJy_n",
        "colab": {
          "base_uri": "https://localhost:8080/",
          "height": 17
        },
        "outputId": "9228b132-2d9f-4073-d648-bedda837d891"
      },
      "outputs": [
        {
          "output_type": "display_data",
          "data": {
            "text/plain": [
              "<IPython.core.display.Javascript object>"
            ],
            "application/javascript": [
              "\n",
              "    async function download(id, filename, size) {\n",
              "      if (!google.colab.kernel.accessAllowed) {\n",
              "        return;\n",
              "      }\n",
              "      const div = document.createElement('div');\n",
              "      const label = document.createElement('label');\n",
              "      label.textContent = `Downloading \"${filename}\": `;\n",
              "      div.appendChild(label);\n",
              "      const progress = document.createElement('progress');\n",
              "      progress.max = size;\n",
              "      div.appendChild(progress);\n",
              "      document.body.appendChild(div);\n",
              "\n",
              "      const buffers = [];\n",
              "      let downloaded = 0;\n",
              "\n",
              "      const channel = await google.colab.kernel.comms.open(id);\n",
              "      // Send a message to notify the kernel that we're ready.\n",
              "      channel.send({})\n",
              "\n",
              "      for await (const message of channel.messages) {\n",
              "        // Send a message to notify the kernel that we're ready.\n",
              "        channel.send({})\n",
              "        if (message.buffers) {\n",
              "          for (const buffer of message.buffers) {\n",
              "            buffers.push(buffer);\n",
              "            downloaded += buffer.byteLength;\n",
              "            progress.value = downloaded;\n",
              "          }\n",
              "        }\n",
              "      }\n",
              "      const blob = new Blob(buffers, {type: 'application/binary'});\n",
              "      const a = document.createElement('a');\n",
              "      a.href = window.URL.createObjectURL(blob);\n",
              "      a.download = filename;\n",
              "      div.appendChild(a);\n",
              "      a.click();\n",
              "      div.remove();\n",
              "    }\n",
              "  "
            ]
          },
          "metadata": {}
        },
        {
          "output_type": "display_data",
          "data": {
            "text/plain": [
              "<IPython.core.display.Javascript object>"
            ],
            "application/javascript": [
              "download(\"download_8b7a05cb-29e2-4529-9e1e-e2a23d24d352\", \"Alphabet_Soup_model1.h5\", 10226552)"
            ]
          },
          "metadata": {}
        }
      ],
      "source": [
        "# Export our model to HDF5 file\n",
        "from google.colab import files\n",
        "\n",
        "nn_model.save('/content/Alphabet_Soup_model1.h5')\n",
        "files.download('/content/Alphabet_Soup_model1.h5')"
      ]
    },
    {
      "cell_type": "code",
      "source": [
        "# Model Accuracy Graph\n",
        "plt.title('Accuracy \\n',fontsize=20)\n",
        "plt.plot(fit_model.history['accuracy'], 'red', label='Training Accuracy')\n",
        "plt.xlabel('Number of Epochs')\n",
        "plt.ylabel('Loss')\n",
        "plt.legend()\n",
        "plt.show()"
      ],
      "metadata": {
        "colab": {
          "base_uri": "https://localhost:8080/",
          "height": 562
        },
        "id": "N6PCnjRzcXFW",
        "outputId": "ad9afdb2-df56-4284-c923-5c48038e45fb"
      },
      "execution_count": 25,
      "outputs": [
        {
          "output_type": "display_data",
          "data": {
            "text/plain": [
              "<Figure size 800x550 with 1 Axes>"
            ],
            "image/png": "[encoded data removed]"
          },
          "metadata": {}
        }
      ]
    },
    {
      "cell_type": "markdown",
      "source": [
        "OPTIMIZATION 1\n"
      ],
      "metadata": {
        "id": "6DPel8-ZFL9j"
      }
    },
    {
      "cell_type": "code",
      "source": [
        "# Define the model - deep neural net, i.e., the number of input features and hidden nodes for each layer.\n",
        "number_input_features = len(X_train_scaled[0])\n",
        "\n",
        "nn_model2 = tf.keras.models.Sequential()\n",
        "\n",
        "# First hidden layer\n",
        "nn_model2.add(tf.keras.layers.Dense(units= 160, input_dim= number_input_features, activation='relu'))\n",
        "\n",
        "# Second hidden layer\n",
        "nn_model2.add(tf.keras.layers.Dense(units= 60, activation='relu'))\n",
        "\n",
        "# Output layer\n",
        "nn_model2.add(tf.keras.layers.Dense(units=1, activation='sigmoid'))\n",
        "\n",
        "# Check the structure of the model\n",
        "nn_model2.summary()"
      ],
      "metadata": {
        "colab": {
          "base_uri": "https://localhost:8080/"
        },
        "id": "x9g9CO-TFIQr",
        "outputId": "26bf5c6c-7577-4dfa-9f00-5570a1602253"
      },
      "execution_count": 29,
      "outputs": [
        {
          "output_type": "stream",
          "name": "stdout",
          "text": [
            "Model: \"sequential_1\"\n",
            "_________________________________________________________________\n",
            " Layer (type)                Output Shape              Param #   \n",
            "=================================================================\n",
            " dense_3 (Dense)             (None, 160)               1694400   \n",
            "                                                                 \n",
            " dense_4 (Dense)             (None, 60)                9660      \n",
            "                                                                 \n",
            " dense_5 (Dense)             (None, 1)                 61        \n",
            "                                                                 \n",
            "=================================================================\n",
            "Total params: 1,704,121\n",
            "Trainable params: 1,704,121\n",
            "Non-trainable params: 0\n",
            "_________________________________________________________________\n"
          ]
        }
      ]
    },
    {
      "cell_type": "code",
      "source": [
        "#Compile the model\n",
        "nn_model2.compile(loss = 'binary_crossentropy', optimizer = 'adam', metrics=['accuracy', tf.keras.metrics.Recall()])"
      ],
      "metadata": {
        "id": "UBA19Z1VFhKD"
      },
      "execution_count": 30,
      "outputs": []
    },
    {
      "cell_type": "code",
      "source": [
        "# Train the model\n",
        "fit_model2 = nn_model2.fit(X_train_scaled,y_train, epochs=100)"
      ],
      "metadata": {
        "colab": {
          "base_uri": "https://localhost:8080/"
        },
        "id": "pc85EgaBFigQ",
        "outputId": "9159c55d-5d62-47fd-ce7a-dfd04d7b00cf"
      },
      "execution_count": 32,
      "outputs": [
        {
          "output_type": "stream",
          "name": "stdout",
          "text": [
            "Epoch 1/100\n",
            "402/402 [==============================] - 12s 30ms/step - loss: 0.0702 - accuracy: 0.9707 - recall_1: 0.9634\n",
            "Epoch 2/100\n",
            "402/402 [==============================] - 22s 55ms/step - loss: 0.0692 - accuracy: 0.9710 - recall_1: 0.9639\n",
            "Epoch 3/100\n",
            "402/402 [==============================] - 12s 30ms/step - loss: 0.0693 - accuracy: 0.9711 - recall_1: 0.9636\n",
            "Epoch 4/100\n",
            "402/402 [==============================] - 11s 27ms/step - loss: 0.0682 - accuracy: 0.9714 - recall_1: 0.9639\n",
            "Epoch 5/100\n",
            "402/402 [==============================] - 9s 23ms/step - loss: 0.0684 - accuracy: 0.9715 - recall_1: 0.9664\n",
            "Epoch 6/100\n",
            "402/402 [==============================] - 11s 27ms/step - loss: 0.0684 - accuracy: 0.9718 - recall_1: 0.9657\n",
            "Epoch 7/100\n",
            "402/402 [==============================] - 15s 36ms/step - loss: 0.0671 - accuracy: 0.9716 - recall_1: 0.9658\n",
            "Epoch 8/100\n",
            "402/402 [==============================] - 10s 26ms/step - loss: 0.0664 - accuracy: 0.9727 - recall_1: 0.9664\n",
            "Epoch 9/100\n",
            "402/402 [==============================] - 10s 25ms/step - loss: 0.0660 - accuracy: 0.9733 - recall_1: 0.9659\n",
            "Epoch 10/100\n",
            "402/402 [==============================] - 12s 30ms/step - loss: 0.0664 - accuracy: 0.9725 - recall_1: 0.9678\n",
            "Epoch 11/100\n",
            "402/402 [==============================] - 13s 31ms/step - loss: 0.0664 - accuracy: 0.9728 - recall_1: 0.9666\n",
            "Epoch 12/100\n",
            "402/402 [==============================] - 10s 26ms/step - loss: 0.0651 - accuracy: 0.9733 - recall_1: 0.9680\n",
            "Epoch 13/100\n",
            "402/402 [==============================] - 10s 25ms/step - loss: 0.0644 - accuracy: 0.9747 - recall_1: 0.9694\n",
            "Epoch 14/100\n",
            "402/402 [==============================] - 11s 28ms/step - loss: 0.0643 - accuracy: 0.9741 - recall_1: 0.9685\n",
            "Epoch 15/100\n",
            "402/402 [==============================] - 11s 28ms/step - loss: 0.0644 - accuracy: 0.9739 - recall_1: 0.9692\n",
            "Epoch 16/100\n",
            "402/402 [==============================] - 9s 23ms/step - loss: 0.0637 - accuracy: 0.9741 - recall_1: 0.9676\n",
            "Epoch 17/100\n",
            "402/402 [==============================] - 11s 28ms/step - loss: 0.0633 - accuracy: 0.9750 - recall_1: 0.9700\n",
            "Epoch 18/100\n",
            "402/402 [==============================] - 11s 28ms/step - loss: 0.0627 - accuracy: 0.9750 - recall_1: 0.9690\n",
            "Epoch 19/100\n",
            "402/402 [==============================] - 10s 25ms/step - loss: 0.0629 - accuracy: 0.9754 - recall_1: 0.9692\n",
            "Epoch 20/100\n",
            "402/402 [==============================] - 11s 26ms/step - loss: 0.0623 - accuracy: 0.9750 - recall_1: 0.9712\n",
            "Epoch 21/100\n",
            "402/402 [==============================] - 12s 30ms/step - loss: 0.0636 - accuracy: 0.9740 - recall_1: 0.9678\n",
            "Epoch 22/100\n",
            "402/402 [==============================] - 11s 27ms/step - loss: 0.0612 - accuracy: 0.9757 - recall_1: 0.9701\n",
            "Epoch 23/100\n",
            "402/402 [==============================] - 10s 24ms/step - loss: 0.0615 - accuracy: 0.9754 - recall_1: 0.9703\n",
            "Epoch 24/100\n",
            "402/402 [==============================] - 11s 28ms/step - loss: 0.0608 - accuracy: 0.9759 - recall_1: 0.9699\n",
            "Epoch 25/100\n",
            "402/402 [==============================] - 11s 28ms/step - loss: 0.0606 - accuracy: 0.9763 - recall_1: 0.9704\n",
            "Epoch 26/100\n",
            "402/402 [==============================] - 10s 25ms/step - loss: 0.0604 - accuracy: 0.9762 - recall_1: 0.9704\n",
            "Epoch 27/100\n",
            "402/402 [==============================] - 12s 30ms/step - loss: 0.0607 - accuracy: 0.9756 - recall_1: 0.9706\n",
            "Epoch 28/100\n",
            "402/402 [==============================] - 12s 29ms/step - loss: 0.0606 - accuracy: 0.9759 - recall_1: 0.9704\n",
            "Epoch 29/100\n",
            "402/402 [==============================] - 11s 28ms/step - loss: 0.0598 - accuracy: 0.9758 - recall_1: 0.9707\n",
            "Epoch 30/100\n",
            "402/402 [==============================] - 10s 24ms/step - loss: 0.0596 - accuracy: 0.9758 - recall_1: 0.9703\n",
            "Epoch 31/100\n",
            "402/402 [==============================] - 11s 28ms/step - loss: 0.0588 - accuracy: 0.9761 - recall_1: 0.9704\n",
            "Epoch 32/100\n",
            "402/402 [==============================] - 11s 28ms/step - loss: 0.0588 - accuracy: 0.9765 - recall_1: 0.9714\n",
            "Epoch 33/100\n",
            "402/402 [==============================] - 11s 26ms/step - loss: 0.0583 - accuracy: 0.9763 - recall_1: 0.9703\n",
            "Epoch 34/100\n",
            "402/402 [==============================] - 10s 25ms/step - loss: 0.0587 - accuracy: 0.9767 - recall_1: 0.9710\n",
            "Epoch 35/100\n",
            "402/402 [==============================] - 11s 28ms/step - loss: 0.0587 - accuracy: 0.9767 - recall_1: 0.9710\n",
            "Epoch 36/100\n",
            "402/402 [==============================] - 11s 28ms/step - loss: 0.0574 - accuracy: 0.9768 - recall_1: 0.9710\n",
            "Epoch 37/100\n",
            "402/402 [==============================] - 10s 24ms/step - loss: 0.0581 - accuracy: 0.9768 - recall_1: 0.9708\n",
            "Epoch 38/100\n",
            "402/402 [==============================] - 11s 28ms/step - loss: 0.0576 - accuracy: 0.9771 - recall_1: 0.9711\n",
            "Epoch 39/100\n",
            "402/402 [==============================] - 11s 28ms/step - loss: 0.0579 - accuracy: 0.9760 - recall_1: 0.9706\n",
            "Epoch 40/100\n",
            "402/402 [==============================] - 10s 25ms/step - loss: 0.0587 - accuracy: 0.9767 - recall_1: 0.9704\n",
            "Epoch 41/100\n",
            "402/402 [==============================] - 11s 26ms/step - loss: 0.0568 - accuracy: 0.9780 - recall_1: 0.9726\n",
            "Epoch 42/100\n",
            "402/402 [==============================] - 11s 28ms/step - loss: 0.0571 - accuracy: 0.9768 - recall_1: 0.9714\n",
            "Epoch 43/100\n",
            "402/402 [==============================] - 11s 27ms/step - loss: 0.0566 - accuracy: 0.9776 - recall_1: 0.9714\n",
            "Epoch 44/100\n",
            "402/402 [==============================] - 10s 25ms/step - loss: 0.0573 - accuracy: 0.9776 - recall_1: 0.9724\n",
            "Epoch 45/100\n",
            "402/402 [==============================] - 13s 33ms/step - loss: 0.0566 - accuracy: 0.9771 - recall_1: 0.9706\n",
            "Epoch 46/100\n",
            "402/402 [==============================] - 11s 26ms/step - loss: 0.0569 - accuracy: 0.9764 - recall_1: 0.9715\n",
            "Epoch 47/100\n",
            "402/402 [==============================] - 10s 25ms/step - loss: 0.0565 - accuracy: 0.9772 - recall_1: 0.9706\n",
            "Epoch 48/100\n",
            "402/402 [==============================] - 11s 28ms/step - loss: 0.0565 - accuracy: 0.9775 - recall_1: 0.9711\n",
            "Epoch 49/100\n",
            "402/402 [==============================] - 11s 28ms/step - loss: 0.0562 - accuracy: 0.9776 - recall_1: 0.9711\n",
            "Epoch 50/100\n",
            "402/402 [==============================] - 10s 24ms/step - loss: 0.0556 - accuracy: 0.9778 - recall_1: 0.9724\n",
            "Epoch 51/100\n",
            "402/402 [==============================] - 11s 28ms/step - loss: 0.0565 - accuracy: 0.9777 - recall_1: 0.9710\n",
            "Epoch 52/100\n",
            "402/402 [==============================] - 11s 28ms/step - loss: 0.0558 - accuracy: 0.9778 - recall_1: 0.9719\n",
            "Epoch 53/100\n",
            "402/402 [==============================] - 11s 27ms/step - loss: 0.0561 - accuracy: 0.9778 - recall_1: 0.9714\n",
            "Epoch 54/100\n",
            "402/402 [==============================] - 10s 26ms/step - loss: 0.0565 - accuracy: 0.9775 - recall_1: 0.9708\n",
            "Epoch 55/100\n",
            "402/402 [==============================] - 11s 28ms/step - loss: 0.0561 - accuracy: 0.9780 - recall_1: 0.9718\n",
            "Epoch 56/100\n",
            "402/402 [==============================] - 11s 27ms/step - loss: 0.0555 - accuracy: 0.9781 - recall_1: 0.9717\n",
            "Epoch 57/100\n",
            "402/402 [==============================] - 10s 24ms/step - loss: 0.0549 - accuracy: 0.9783 - recall_1: 0.9711\n",
            "Epoch 58/100\n",
            "402/402 [==============================] - 11s 28ms/step - loss: 0.0564 - accuracy: 0.9774 - recall_1: 0.9714\n",
            "Epoch 59/100\n",
            "402/402 [==============================] - 11s 28ms/step - loss: 0.0556 - accuracy: 0.9772 - recall_1: 0.9712\n",
            "Epoch 60/100\n",
            "402/402 [==============================] - 11s 26ms/step - loss: 0.0555 - accuracy: 0.9779 - recall_1: 0.9711\n",
            "Epoch 61/100\n",
            "402/402 [==============================] - 10s 26ms/step - loss: 0.0549 - accuracy: 0.9784 - recall_1: 0.9725\n",
            "Epoch 62/100\n",
            "402/402 [==============================] - 12s 30ms/step - loss: 0.0546 - accuracy: 0.9775 - recall_1: 0.9712\n",
            "Epoch 63/100\n",
            "402/402 [==============================] - 15s 36ms/step - loss: 0.0544 - accuracy: 0.9781 - recall_1: 0.9718\n",
            "Epoch 64/100\n",
            "402/402 [==============================] - 10s 25ms/step - loss: 0.0557 - accuracy: 0.9775 - recall_1: 0.9719\n",
            "Epoch 65/100\n",
            "402/402 [==============================] - 11s 27ms/step - loss: 0.0546 - accuracy: 0.9779 - recall_1: 0.9712\n",
            "Epoch 66/100\n",
            "402/402 [==============================] - 11s 28ms/step - loss: 0.0553 - accuracy: 0.9784 - recall_1: 0.9710\n",
            "Epoch 67/100\n",
            "402/402 [==============================] - 11s 27ms/step - loss: 0.0547 - accuracy: 0.9785 - recall_1: 0.9719\n",
            "Epoch 68/100\n",
            "402/402 [==============================] - 10s 25ms/step - loss: 0.0544 - accuracy: 0.9787 - recall_1: 0.9724\n",
            "Epoch 69/100\n",
            "402/402 [==============================] - 11s 28ms/step - loss: 0.0544 - accuracy: 0.9784 - recall_1: 0.9711\n",
            "Epoch 70/100\n",
            "402/402 [==============================] - 11s 28ms/step - loss: 0.0545 - accuracy: 0.9784 - recall_1: 0.9718\n",
            "Epoch 71/100\n",
            "402/402 [==============================] - 11s 27ms/step - loss: 0.0548 - accuracy: 0.9783 - recall_1: 0.9715\n",
            "Epoch 72/100\n",
            "402/402 [==============================] - 11s 28ms/step - loss: 0.0542 - accuracy: 0.9783 - recall_1: 0.9719\n",
            "Epoch 73/100\n",
            "402/402 [==============================] - 12s 29ms/step - loss: 0.0540 - accuracy: 0.9787 - recall_1: 0.9718\n",
            "Epoch 74/100\n",
            "402/402 [==============================] - 11s 28ms/step - loss: 0.0539 - accuracy: 0.9777 - recall_1: 0.9714\n",
            "Epoch 75/100\n",
            "402/402 [==============================] - 11s 28ms/step - loss: 0.0542 - accuracy: 0.9784 - recall_1: 0.9718\n",
            "Epoch 76/100\n",
            "402/402 [==============================] - 12s 30ms/step - loss: 0.0543 - accuracy: 0.9783 - recall_1: 0.9718\n",
            "Epoch 77/100\n",
            "402/402 [==============================] - 11s 28ms/step - loss: 0.0538 - accuracy: 0.9785 - recall_1: 0.9710\n",
            "Epoch 78/100\n",
            "402/402 [==============================] - 13s 33ms/step - loss: 0.0543 - accuracy: 0.9784 - recall_1: 0.9715\n",
            "Epoch 79/100\n",
            "402/402 [==============================] - 10s 25ms/step - loss: 0.0541 - accuracy: 0.9789 - recall_1: 0.9722\n",
            "Epoch 80/100\n",
            "402/402 [==============================] - 11s 28ms/step - loss: 0.0532 - accuracy: 0.9786 - recall_1: 0.9728\n",
            "Epoch 81/100\n",
            "402/402 [==============================] - 11s 28ms/step - loss: 0.0539 - accuracy: 0.9782 - recall_1: 0.9715\n",
            "Epoch 82/100\n",
            "402/402 [==============================] - 10s 25ms/step - loss: 0.0536 - accuracy: 0.9786 - recall_1: 0.9722\n",
            "Epoch 83/100\n",
            "402/402 [==============================] - 11s 28ms/step - loss: 0.0538 - accuracy: 0.9787 - recall_1: 0.9726\n",
            "Epoch 84/100\n",
            "402/402 [==============================] - 11s 28ms/step - loss: 0.0535 - accuracy: 0.9787 - recall_1: 0.9724\n",
            "Epoch 85/100\n",
            "402/402 [==============================] - 11s 28ms/step - loss: 0.0537 - accuracy: 0.9789 - recall_1: 0.9722\n",
            "Epoch 86/100\n",
            "402/402 [==============================] - 10s 25ms/step - loss: 0.0534 - accuracy: 0.9789 - recall_1: 0.9721\n",
            "Epoch 87/100\n",
            "402/402 [==============================] - 11s 28ms/step - loss: 0.0533 - accuracy: 0.9780 - recall_1: 0.9717\n",
            "Epoch 88/100\n",
            "402/402 [==============================] - 11s 28ms/step - loss: 0.0537 - accuracy: 0.9784 - recall_1: 0.9726\n",
            "Epoch 89/100\n",
            "402/402 [==============================] - 11s 27ms/step - loss: 0.0535 - accuracy: 0.9787 - recall_1: 0.9721\n",
            "Epoch 90/100\n",
            "402/402 [==============================] - 11s 26ms/step - loss: 0.0537 - accuracy: 0.9791 - recall_1: 0.9728\n",
            "Epoch 91/100\n",
            "402/402 [==============================] - 11s 28ms/step - loss: 0.0536 - accuracy: 0.9794 - recall_1: 0.9733\n",
            "Epoch 92/100\n",
            "402/402 [==============================] - 11s 28ms/step - loss: 0.0538 - accuracy: 0.9783 - recall_1: 0.9719\n",
            "Epoch 93/100\n",
            "402/402 [==============================] - 10s 24ms/step - loss: 0.0538 - accuracy: 0.9790 - recall_1: 0.9715\n",
            "Epoch 94/100\n",
            "402/402 [==============================] - 11s 28ms/step - loss: 0.0531 - accuracy: 0.9786 - recall_1: 0.9724\n",
            "Epoch 95/100\n",
            "402/402 [==============================] - 13s 33ms/step - loss: 0.0532 - accuracy: 0.9779 - recall_1: 0.9719\n",
            "Epoch 96/100\n",
            "402/402 [==============================] - 11s 26ms/step - loss: 0.0538 - accuracy: 0.9787 - recall_1: 0.9724\n",
            "Epoch 97/100\n",
            "402/402 [==============================] - 11s 28ms/step - loss: 0.0537 - accuracy: 0.9787 - recall_1: 0.9717\n",
            "Epoch 98/100\n",
            "402/402 [==============================] - 11s 29ms/step - loss: 0.0541 - accuracy: 0.9787 - recall_1: 0.9719\n",
            "Epoch 99/100\n",
            "402/402 [==============================] - 11s 28ms/step - loss: 0.0529 - accuracy: 0.9785 - recall_1: 0.9719\n",
            "Epoch 100/100\n",
            "402/402 [==============================] - 10s 25ms/step - loss: 0.0534 - accuracy: 0.9792 - recall_1: 0.9724\n"
          ]
        }
      ]
    },
    {
      "cell_type": "code",
      "source": [
        "# Evaluate the model using the test data\n",
        "model_loss, model_accuracy, model_Recall= nn_model2.evaluate(X_test_scaled,y_test,verbose=2)\n",
        "print(f\"Loss: {model_loss}, Accuracy: {model_accuracy}\")"
      ],
      "metadata": {
        "colab": {
          "base_uri": "https://localhost:8080/"
        },
        "id": "tLZijReSFvSj",
        "outputId": "971e99b5-5d3f-41af-fc49-213648928a0f"
      },
      "execution_count": 33,
      "outputs": [
        {
          "output_type": "stream",
          "name": "stdout",
          "text": [
            "134/134 - 1s - loss: 0.7633 - accuracy: 0.7568 - recall_1: 0.7585 - 705ms/epoch - 5ms/step\n",
            "Loss: 0.7633339166641235, Accuracy: 0.7567630410194397\n"
          ]
        }
      ]
    },
    {
      "cell_type": "code",
      "source": [
        "# Model Accuracy Graph\n",
        "plt.title('Accuracy \\n',fontsize=20)\n",
        "plt.plot(fit_model2.history['accuracy'], 'red', label='Training Accuracy')\n",
        "plt.xlabel('Number of Epochs')\n",
        "plt.ylabel('Loss')\n",
        "plt.legend()\n",
        "plt.show()"
      ],
      "metadata": {
        "colab": {
          "base_uri": "https://localhost:8080/",
          "height": 562
        },
        "id": "kCy__TRidCEu",
        "outputId": "1ba9731c-3da0-4bf1-ad28-2b135d5e02a5"
      },
      "execution_count": 34,
      "outputs": [
        {
          "output_type": "display_data",
          "data": {
            "text/plain": [
              "<Figure size 800x550 with 1 Axes>"
            ],
            "image/png": "[encoded data removed]"
          },
          "metadata": {}
        }
      ]
    },
    {
      "cell_type": "code",
      "source": [
        "# Export our model to HDF5 file\n",
        "from google.colab import files\n",
        "\n",
        "nn_model2.save('/content/Alphabet_Soup_model_Optimized.h5')"
      ],
      "metadata": {
        "id": "3FopQmiZVHsA"
      },
      "execution_count": 35,
      "outputs": []
    }
  ],
  "metadata": {
    "kernelspec": {
      "display_name": "Python 3",
      "language": "python",
      "name": "python3"
    },
    "language_info": {
      "codemirror_mode": {
        "name": "ipython",
        "version": 3
      },
      "file_extension": ".py",
      "mimetype": "text/x-python",
      "name": "python",
      "nbconvert_exporter": "python",
      "pygments_lexer": "ipython3",
      "version": "3.-1.-1"
    },
    "vscode": {
      "interpreter": {
        "hash": "31f2aee4e71d21fbe5cf8b01ff0e069b9275f58929596ceb00d14d90e3e16cd6"
      }
    },
    "colab": {
      "provenance": []
    }
  },
  "nbformat": 4,
  "nbformat_minor": 0
}